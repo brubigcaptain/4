{
  "nbformat": 4,
  "nbformat_minor": 0,
  "metadata": {
    "colab": {
      "provenance": []
    },
    "kernelspec": {
      "name": "python3",
      "display_name": "Python 3"
    },
    "language_info": {
      "name": "python"
    }
  },
  "cells": [
    {
      "cell_type": "code",
      "execution_count": null,
      "metadata": {
        "colab": {
          "base_uri": "https://localhost:8080/"
        },
        "id": "C3Wj649KFrg9",
        "outputId": "368c39a0-4ea9-490d-f0e0-550107ed3be3"
      },
      "outputs": [
        {
          "output_type": "stream",
          "name": "stdout",
          "text": [
            "\n",
            "您想查詢什麼？(藥方名稱/出典/處方/效能/適應症/退出查詢)：出典\n",
            "九味羌活湯《丸》的出典為:此事難知\n"
          ]
        }
      ],
      "source": [
        "prescription = {\n",
        "    '名稱': '九味羌活湯《丸》',\n",
        "    '出典': '此事難知',\n",
        "    '處方': {\n",
        "        '羌活': 3,\n",
        "        '防風': 3,\n",
        "        '蒼朮': 3,\n",
        "        '細辛': 1,\n",
        "        '川芎': 2,\n",
        "        '白芷': 2,\n",
        "        '生地黃': 2,\n",
        "        '黃芩': 2,\n",
        "        '甘草': 2,\n",
        "        '生薑': 3,\n",
        "        '蔥白': 3,\n",
        "    },\n",
        "    '效能': '解表、祛濕、清裏熱',\n",
        "    '適應症': ['外感風寒濕邪','頭痛','項強','四肢痠痛']\n",
        "}\n",
        "\n",
        "while True:\n",
        "    query = input(\"\\n您想查詢什麼？(藥方名稱/出典/處方/效能/適應症/退出查詢)：\")\n",
        "\n",
        "    if query == \"藥方名稱\":\n",
        "        print(f\"{prescription['名稱']}\")\n",
        "    elif query == \"出典\":\n",
        "        print(f\"{prescription['名稱']}的出典為:{prescription['出典']}\")\n",
        "    elif query == \"適應症\":\n",
        "        print(f\"{prescription['名稱']}的適應症有:\")\n",
        "        for symptom in prescription['適應症']:\n",
        "            print(symptom)\n",
        "    elif query == \"處方\":\n",
        "        total_weight = sum(prescription['處方'].values())\n",
        "        print(f\"{prescription['名稱']}的處方為:\")\n",
        "        for medicine, weight in prescription['處方'].items():\n",
        "            print(f\"{medicine}：{weight}公克\")\n",
        "        print(f\"總克數為：{total_weight}公克\")\n",
        "    elif query == \"效能\":\n",
        "        print(f\"{prescription['名稱']}的效能是:{prescription['效能']}\")\n",
        "    elif query == \"退出查詢\":\n",
        "        print(\"感謝使用，再見！\")\n",
        "        break\n",
        "    else:\n",
        "        print(\"輸入無效，請重新輸入。\")"
      ]
    }
  ]
}